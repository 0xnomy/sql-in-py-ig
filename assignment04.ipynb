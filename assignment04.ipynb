{
  "cells": [
    {
      "cell_type": "markdown",
      "metadata": {
        "id": "mk6JAncSthOZ"
      },
      "source": [
        "## Commissioner Equi-Join's Toughest Case (5 Points)\n",
        "Copyright Jens Dittrich, Christian Schön & Jors Nix, [Big Data Analytics Group](https://bigdata.uni-saarland.de/), [CC-BY-SA](https://creativecommons.org/licenses/by-sa/4.0/legalcode)\n",
        "\n",
        "In this exercise you will help commissioner equi-join solving one of his old, unsolved cases."
      ]
    },
    {
      "cell_type": "code",
      "execution_count": null,
      "metadata": {
        "id": "nxl3LvXtthOc"
      },
      "outputs": [],
      "source": [
        "import duckdb"
      ]
    },
    {
      "cell_type": "markdown",
      "metadata": {
        "id": "9dB6qPlMthOe"
      },
      "source": [
        "## Load Data\n",
        "\n",
        "Before we can start analyzing the data, we first have to load data from the corresponding csv files into an appropriate database schema. This is fake data."
      ]
    },
    {
      "cell_type": "code",
      "execution_count": null,
      "metadata": {
        "id": "uAbjY5KQthOf"
      },
      "outputs": [],
      "source": [
        "duckdb.sql(\"\"\"\n",
        "    CREATE TABLE households (\n",
        "    id INTEGER PRIMARY KEY,\n",
        "    street VARCHAR,\n",
        "    postcode INTEGER,\n",
        "    city VARCHAR,\n",
        "    floor INTEGER\n",
        ");\"\"\")\n",
        "\n",
        "duckdb.sql(\"\"\"\n",
        "CREATE TABLE citizens (\n",
        "    id INTEGER PRIMARY KEY,\n",
        "    firstname VARCHAR,\n",
        "    lastname VARCHAR,\n",
        "    birthday TIMESTAMP\n",
        ");\"\"\")\n",
        "\n",
        "duckdb.sql(\"\"\"\n",
        "CREATE TABLE live_in (\n",
        "    household_id INTEGER,\n",
        "    citizen_id INTEGER,\n",
        "    start TIMESTAMP,\n",
        "    until TIMESTAMP,\n",
        "    FOREIGN KEY(household_id) REFERENCES households(id),\n",
        "    FOREIGN KEY(citizen_id) REFERENCES citizens(id),\n",
        "    PRIMARY KEY(citizen_id, start)\n",
        ");\"\"\")\n",
        "\n",
        "duckdb.sql(\"\"\"\n",
        "CREATE TABLE articles (\n",
        "    id INTEGER PRIMARY KEY,\n",
        "    label VARCHAR,\n",
        "    unit VARCHAR\n",
        ");\"\"\")\n",
        "\n",
        "duckdb.sql(\"\"\"\n",
        "CREATE TABLE groceries (\n",
        "    id INTEGER PRIMARY KEY,\n",
        "    caloriesPer100g INTEGER,\n",
        "    FOREIGN KEY(id) REFERENCES articles(id)\n",
        ");\"\"\")\n",
        "\n",
        "duckdb.sql(\"\"\"\n",
        "CREATE TABLE purchases (\n",
        "    article_id INTEGER,\n",
        "    citizen_id INTEGER,\n",
        "    date TIMESTAMP,\n",
        "    amount FLOAT,\n",
        "    FOREIGN KEY(article_id) REFERENCES articles(id),\n",
        "    FOREIGN KEY(citizen_id) REFERENCES citizens(id),\n",
        "    PRIMARY KEY(article_id, citizen_id, date)\n",
        ");\"\"\")"
      ]
    },
    {
      "cell_type": "code",
      "execution_count": null,
      "metadata": {
        "id": "G19igvDNthOg"
      },
      "outputs": [],
      "source": [
        "duckdb.sql(r\"COPY households FROM '/content/households_no_header.csv' (FORMAT CSV, DELIMITER ',');\")\n",
        "duckdb.sql(r\"COPY citizens FROM '/content/citizens_no_header.csv' (FORMAT CSV, DELIMITER ',');\")\n",
        "duckdb.sql(r\"COPY live_in FROM '/content/live_in_no_header.csv' (FORMAT CSV, DELIMITER ',');\")\n",
        "duckdb.sql(r\"COPY articles FROM '/content/articles_no_header.csv' (FORMAT CSV, DELIMITER ',');\")\n",
        "duckdb.sql(r\"COPY groceries FROM '/content/groceries_no_header.csv' (FORMAT CSV, DELIMITER ',');\")\n",
        "duckdb.sql(r\"COPY purchases FROM '/content/purchases_no_header.csv' (FORMAT CSV, DELIMITER ',');\")"
      ]
    },
    {
      "cell_type": "markdown",
      "metadata": {
        "id": "kTGrhAWwthOi"
      },
      "source": [
        "### Your query\n",
        "\n",
        "Enter your query in the following cell. It should output the list of main suspects in the following format:\n",
        "1. The suspects' first names as 'First_Name'\n",
        "2. The last names of the suspects as 'Last_Name'\n",
        "\n",
        "You are allowed to use subqueries and views."
      ]
    },
    {
      "cell_type": "code",
      "source": [
        "import duckdb\n",
        "\n",
        "# Initialize an in-memory DuckDB instance\n",
        "con = duckdb.connect()\n",
        "\n",
        "# Create households table\n",
        "con.execute(\"\"\"\n",
        "CREATE TABLE households (\n",
        "    id INTEGER PRIMARY KEY,\n",
        "    street VARCHAR,\n",
        "    postcode INTEGER,\n",
        "    city VARCHAR,\n",
        "    floor INTEGER\n",
        ");\n",
        "\"\"\")\n",
        "\n",
        "# Create citizens table\n",
        "con.execute(\"\"\"\n",
        "CREATE TABLE citizens (\n",
        "    id INTEGER PRIMARY KEY,\n",
        "    firstname VARCHAR,\n",
        "    lastname VARCHAR,\n",
        "    birthday TIMESTAMP\n",
        ");\n",
        "\"\"\")\n",
        "\n",
        "# Create live_in table\n",
        "con.execute(\"\"\"\n",
        "CREATE TABLE live_in (\n",
        "    household_id INTEGER,\n",
        "    citizen_id INTEGER,\n",
        "    start TIMESTAMP,\n",
        "    until TIMESTAMP,\n",
        "    FOREIGN KEY(household_id) REFERENCES households(id),\n",
        "    FOREIGN KEY(citizen_id) REFERENCES citizens(id),\n",
        "    PRIMARY KEY(citizen_id, start)\n",
        ");\n",
        "\"\"\")\n",
        "\n",
        "# Create articles table\n",
        "con.execute(\"\"\"\n",
        "CREATE TABLE articles (\n",
        "    id INTEGER PRIMARY KEY,\n",
        "    label VARCHAR,\n",
        "    unit VARCHAR\n",
        ");\n",
        "\"\"\")\n",
        "\n",
        "# Create groceries table\n",
        "con.execute(\"\"\"\n",
        "CREATE TABLE groceries (\n",
        "    id INTEGER PRIMARY KEY,\n",
        "    caloriesPer100g INTEGER,\n",
        "    FOREIGN KEY(id) REFERENCES articles(id)\n",
        ");\n",
        "\"\"\")\n",
        "\n",
        "# Create purchases table\n",
        "con.execute(\"\"\"\n",
        "CREATE TABLE purchases (\n",
        "    article_id INTEGER,\n",
        "    citizen_id INTEGER,\n",
        "    date TIMESTAMP,\n",
        "    amount FLOAT,\n",
        "    FOREIGN KEY(article_id) REFERENCES articles(id),\n",
        "    FOREIGN KEY(citizen_id) REFERENCES citizens(id),\n",
        "    PRIMARY KEY(article_id, citizen_id, date)\n",
        ");\n",
        "\"\"\")\n",
        "\n",
        "# Load the data from CSV files (assuming you have uploaded the files to Colab)\n",
        "con.execute(r\"COPY households FROM '/content/households_no_header.csv' (FORMAT CSV, DELIMITER ',');\")\n",
        "con.execute(r\"COPY citizens FROM '/content/citizens_no_header.csv' (FORMAT CSV, DELIMITER ',');\")\n",
        "con.execute(r\"COPY live_in FROM '/content/live_in_no_header.csv' (FORMAT CSV, DELIMITER ',');\")\n",
        "con.execute(r\"COPY articles FROM '/content/articles_no_header.csv' (FORMAT CSV, DELIMITER ',');\")\n",
        "con.execute(r\"COPY groceries FROM '/content/groceries_no_header.csv' (FORMAT CSV, DELIMITER ',');\")\n",
        "con.execute(r\"COPY purchases FROM '/content/purchases_no_header.csv' (FORMAT CSV, DELIMITER ',');\")\n"
      ],
      "metadata": {
        "colab": {
          "base_uri": "https://localhost:8080/"
        },
        "id": "vCHSpopkwu_W",
        "outputId": "9ab1d516-cbc9-422c-a196-8ff0d3861885"
      },
      "execution_count": null,
      "outputs": [
        {
          "output_type": "execute_result",
          "data": {
            "text/plain": [
              "<duckdb.duckdb.DuckDBPyConnection at 0x7d71cc4c1fb0>"
            ]
          },
          "metadata": {},
          "execution_count": 11
        }
      ]
    },
    {
      "cell_type": "code",
      "execution_count": null,
      "metadata": {
        "colab": {
          "base_uri": "https://localhost:8080/",
          "height": 291
        },
        "id": "G72SbsyzthOj",
        "outputId": "fdeddbc9-fdcd-49ee-ccbf-a2e68387c3f7"
      },
      "outputs": [
        {
          "output_type": "error",
          "ename": "Error",
          "evalue": "Cannot drop entry \"relevant_households\" because there are entries that depend on it.\nview \"suspects\" depends on view \"relevant_households\".\nview \"residents_on_murder_date\" depends on view \"relevant_households\".\nview \"suspects\" depends on view \"residents_on_murder_date\".\nUse DROP...CASCADE to drop all dependents.",
          "traceback": [
            "\u001b[0;31m---------------------------------------------------------------------------\u001b[0m",
            "\u001b[0;31mError\u001b[0m                                     Traceback (most recent call last)",
            "\u001b[0;32m<ipython-input-13-aaf54edee022>\u001b[0m in \u001b[0;36m<cell line: 2>\u001b[0;34m()\u001b[0m\n\u001b[1;32m      1\u001b[0m \u001b[0;31m# Create relevant_households view\u001b[0m\u001b[0;34m\u001b[0m\u001b[0;34m\u001b[0m\u001b[0m\n\u001b[0;32m----> 2\u001b[0;31m con.execute(\"\"\"\n\u001b[0m\u001b[1;32m      3\u001b[0m \u001b[0mCREATE\u001b[0m \u001b[0mOR\u001b[0m \u001b[0mREPLACE\u001b[0m \u001b[0mVIEW\u001b[0m \u001b[0mrelevant_households\u001b[0m \u001b[0mAS\u001b[0m\u001b[0;34m\u001b[0m\u001b[0;34m\u001b[0m\u001b[0m\n\u001b[1;32m      4\u001b[0m \u001b[0mSELECT\u001b[0m \u001b[0mid\u001b[0m\u001b[0;34m\u001b[0m\u001b[0;34m\u001b[0m\u001b[0m\n\u001b[1;32m      5\u001b[0m \u001b[0mFROM\u001b[0m \u001b[0mhouseholds\u001b[0m\u001b[0;34m\u001b[0m\u001b[0;34m\u001b[0m\u001b[0m\n",
            "\u001b[0;31mError\u001b[0m: Cannot drop entry \"relevant_households\" because there are entries that depend on it.\nview \"suspects\" depends on view \"relevant_households\".\nview \"residents_on_murder_date\" depends on view \"relevant_households\".\nview \"suspects\" depends on view \"residents_on_murder_date\".\nUse DROP...CASCADE to drop all dependents."
          ]
        }
      ],
      "source": [
        "# Create relevant_households view\n",
        "con.execute(\"\"\"\n",
        "CREATE OR REPLACE VIEW relevant_households AS\n",
        "SELECT id\n",
        "FROM households\n",
        "WHERE street LIKE '%13%'\n",
        "   OR street LIKE '%bucht%'\n",
        "   OR street LIKE '%Kor%';\n",
        "\"\"\")\n",
        "\n",
        "# Create residents_on_murder_date view\n",
        "con.execute(\"\"\"\n",
        "CREATE OR REPLACE VIEW residents_on_murder_date AS\n",
        "SELECT li.citizen_id\n",
        "FROM live_in li\n",
        "JOIN relevant_households rh ON li.household_id = rh.id\n",
        "WHERE li.start <= '1943-11-24 15:00:00'\n",
        "  AND (li.until IS NULL OR li.until >= '1943-11-24 15:00:00');\n",
        "\"\"\")\n",
        "\n",
        "# Create relevant_purchases view\n",
        "con.execute(\"\"\"\n",
        "CREATE OR REPLACE VIEW relevant_purchases AS\n",
        "SELECT p.citizen_id, p.article_id, p.amount, p.date\n",
        "FROM purchases p\n",
        "JOIN articles a ON p.article_id = a.id\n",
        "WHERE a.label IN ('carrots', 'apples', 'onions')\n",
        "  AND p.date BETWEEN '1943-11-19 15:00:00' AND '1943-11-24 15:00:00';\n",
        "\"\"\")\n",
        "\n",
        "# Create aggregated_purchases view\n",
        "con.execute(\"\"\"\n",
        "CREATE OR REPLACE VIEW aggregated_purchases AS\n",
        "SELECT\n",
        "    rp.citizen_id,\n",
        "    SUM(CASE WHEN a.label = 'carrots' THEN rp.amount ELSE 0 END) AS total_carrots,\n",
        "    SUM(CASE WHEN a.label = 'apples' THEN rp.amount ELSE 0 END) AS total_apples,\n",
        "    SUM(CASE WHEN a.label = 'onions' THEN rp.amount ELSE 0 END) AS total_onions\n",
        "FROM relevant_purchases rp\n",
        "JOIN articles a ON rp.article_id = a.id\n",
        "GROUP BY rp.citizen_id\n",
        "HAVING total_carrots = 0.5\n",
        "   AND total_apples >= 2\n",
        "   AND total_onions BETWEEN 1 AND 3;\n",
        "\"\"\")\n",
        "\n",
        "# Create suspects view\n",
        "con.execute(\"\"\"\n",
        "CREATE OR REPLACE VIEW suspects AS\n",
        "SELECT c.firstname AS First_Name, c.lastname AS Last_Name\n",
        "FROM aggregated_purchases ap\n",
        "JOIN citizens c ON ap.citizen_id = c.id\n",
        "JOIN residents_on_murder_date romd ON ap.citizen_id = romd.citizen_id;\n",
        "\"\"\")\n",
        "\n",
        "# Query the suspects view to get the final result\n",
        "suspects = con.execute(\"SELECT * FROM suspects;\").fetchall()\n",
        "\n",
        "# Display the suspects\n",
        "for suspect in suspects:\n",
        "    print(f\"First Name: {suspect[0]}, Last Name: {suspect[1]}\")\n"
      ]
    },
    {
      "cell_type": "code",
      "source": [
        "con.execute(\"\"\"DROP CASCADE\"\"\")"
      ],
      "metadata": {
        "id": "NivzEInYwPcE"
      },
      "execution_count": null,
      "outputs": []
    }
  ],
  "metadata": {
    "kernelspec": {
      "display_name": "Python 3 (ipykernel)",
      "language": "python",
      "name": "python3"
    },
    "language_info": {
      "codemirror_mode": {
        "name": "ipython",
        "version": 3
      },
      "file_extension": ".py",
      "mimetype": "text/x-python",
      "name": "python",
      "nbconvert_exporter": "python",
      "pygments_lexer": "ipython3",
      "version": "3.12.1"
    },
    "varInspector": {
      "cols": {
        "lenName": 16,
        "lenType": 16,
        "lenVar": 40
      },
      "kernels_config": {
        "python": {
          "delete_cmd_postfix": "",
          "delete_cmd_prefix": "del ",
          "library": "var_list.py",
          "varRefreshCmd": "print(var_dic_list())"
        },
        "r": {
          "delete_cmd_postfix": ") ",
          "delete_cmd_prefix": "rm(",
          "library": "var_list.r",
          "varRefreshCmd": "cat(var_dic_list()) "
        }
      },
      "types_to_exclude": [
        "module",
        "function",
        "builtin_function_or_method",
        "instance",
        "_Feature"
      ],
      "window_display": false
    },
    "colab": {
      "provenance": []
    }
  },
  "nbformat": 4,
  "nbformat_minor": 0
}